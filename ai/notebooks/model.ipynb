{
 "cells": [
  {
   "cell_type": "markdown",
   "metadata": {},
   "source": [
    "# Model Training\n",
    "Using transfer learning from VGG-16\n",
    "\n",
    "[Keras Sample 1](https://medium.com/@14prakash/transfer-learning-using-keras-d804b2e04ef8)\n",
    "\n",
    "[Keras Sample 2](https://www.kaggle.com/venuraja79/using-transfer-learning-with-keras)"
   ]
  },
  {
   "cell_type": "code",
   "execution_count": 1,
   "metadata": {},
   "outputs": [
    {
     "name": "stderr",
     "output_type": "stream",
     "text": [
      "Using TensorFlow backend.\n"
     ]
    }
   ],
   "source": [
    "from keras import applications\n",
    "from keras.preprocessing.image import ImageDataGenerator\n",
    "from keras import optimizers\n",
    "from keras.models import Sequential, Model \n",
    "from keras.layers import Dropout, Dense, GlobalAveragePooling2D, Flatten\n",
    "from keras import backend as k \n",
    "from keras.callbacks import ModelCheckpoint, LearningRateScheduler, TensorBoard, EarlyStopping"
   ]
  },
  {
   "cell_type": "code",
   "execution_count": 2,
   "metadata": {},
   "outputs": [],
   "source": [
    "img_width, img_height = 224, 224\n",
    "model = applications.VGG16(weights = \"imagenet\", include_top=False, input_shape = (img_width, img_height, 3))"
   ]
  },
  {
   "cell_type": "code",
   "execution_count": 3,
   "metadata": {
    "scrolled": true
   },
   "outputs": [
    {
     "name": "stdout",
     "output_type": "stream",
     "text": [
      "_________________________________________________________________\n",
      "Layer (type)                 Output Shape              Param #   \n",
      "=================================================================\n",
      "input_1 (InputLayer)         (None, 224, 224, 3)       0         \n",
      "_________________________________________________________________\n",
      "block1_conv1 (Conv2D)        (None, 224, 224, 64)      1792      \n",
      "_________________________________________________________________\n",
      "block1_conv2 (Conv2D)        (None, 224, 224, 64)      36928     \n",
      "_________________________________________________________________\n",
      "block1_pool (MaxPooling2D)   (None, 112, 112, 64)      0         \n",
      "_________________________________________________________________\n",
      "block2_conv1 (Conv2D)        (None, 112, 112, 128)     73856     \n",
      "_________________________________________________________________\n",
      "block2_conv2 (Conv2D)        (None, 112, 112, 128)     147584    \n",
      "_________________________________________________________________\n",
      "block2_pool (MaxPooling2D)   (None, 56, 56, 128)       0         \n",
      "_________________________________________________________________\n",
      "block3_conv1 (Conv2D)        (None, 56, 56, 256)       295168    \n",
      "_________________________________________________________________\n",
      "block3_conv2 (Conv2D)        (None, 56, 56, 256)       590080    \n",
      "_________________________________________________________________\n",
      "block3_conv3 (Conv2D)        (None, 56, 56, 256)       590080    \n",
      "_________________________________________________________________\n",
      "block3_pool (MaxPooling2D)   (None, 28, 28, 256)       0         \n",
      "_________________________________________________________________\n",
      "block4_conv1 (Conv2D)        (None, 28, 28, 512)       1180160   \n",
      "_________________________________________________________________\n",
      "block4_conv2 (Conv2D)        (None, 28, 28, 512)       2359808   \n",
      "_________________________________________________________________\n",
      "block4_conv3 (Conv2D)        (None, 28, 28, 512)       2359808   \n",
      "_________________________________________________________________\n",
      "block4_pool (MaxPooling2D)   (None, 14, 14, 512)       0         \n",
      "_________________________________________________________________\n",
      "block5_conv1 (Conv2D)        (None, 14, 14, 512)       2359808   \n",
      "_________________________________________________________________\n",
      "block5_conv2 (Conv2D)        (None, 14, 14, 512)       2359808   \n",
      "_________________________________________________________________\n",
      "block5_conv3 (Conv2D)        (None, 14, 14, 512)       2359808   \n",
      "_________________________________________________________________\n",
      "block5_pool (MaxPooling2D)   (None, 7, 7, 512)         0         \n",
      "_________________________________________________________________\n",
      "global_average_pooling2d_1 ( (None, 512)               0         \n",
      "_________________________________________________________________\n",
      "dense_1 (Dense)              (None, 256)               131328    \n",
      "_________________________________________________________________\n",
      "prediction (Dense)           (None, 2)                 514       \n",
      "=================================================================\n",
      "Total params: 14,846,530\n",
      "Trainable params: 131,842\n",
      "Non-trainable params: 14,714,688\n",
      "_________________________________________________________________\n"
     ]
    }
   ],
   "source": [
    "# freeze layers\n",
    "for layer in model.layers:\n",
    "    layer.trainable = False\n",
    "    \n",
    "# add custom layers\n",
    "x = model.output\n",
    "x = GlobalAveragePooling2D()(x)\n",
    "#x = Dense(128, activation=\"relu\")(x)\n",
    "#x = Dropout(0.5)(x)\n",
    "x = Dense(256, activation=\"relu\")(x)\n",
    "prediction = Dense(2, activation=\"softmax\", name=\"prediction\")(x)\n",
    "\n",
    "# generate new model\n",
    "m = Model(inputs = model.input, outputs = prediction)\n",
    "m.compile(loss = 'categorical_crossentropy', optimizer='adam', metrics=['accuracy'])\n",
    "m.summary()"
   ]
  },
  {
   "cell_type": "markdown",
   "metadata": {},
   "source": [
    "# Data Loader\n",
    "Sample [data loader](https://gist.github.com/fchollet/0830affa1f7f19fd47b06d4cf89ed44d)"
   ]
  },
  {
   "cell_type": "code",
   "execution_count": 4,
   "metadata": {},
   "outputs": [
    {
     "name": "stdout",
     "output_type": "stream",
     "text": [
      "Found 855 images belonging to 2 classes.\n",
      "Found 95 images belonging to 2 classes.\n"
     ]
    }
   ],
   "source": [
    "train_data_dir = 'data/catsndogs/train'\n",
    "validation_data_dir = 'data/catsndogs/validation'\n",
    "nb_train_samples = 855\n",
    "nb_validation_samples = 95\n",
    "epochs = 10\n",
    "batch_size = 24\n",
    "\n",
    "train = ImageDataGenerator(rescale = 1./255,\n",
    "            horizontal_flip = True,\n",
    "            fill_mode = \"nearest\",\n",
    "            zoom_range = 0.3,\n",
    "            width_shift_range = 0.3,\n",
    "            height_shift_range=0.3,\n",
    "            rotation_range=30)\n",
    "\n",
    "train_generator = train.flow_from_directory(\n",
    "    train_data_dir,\n",
    "    target_size=(img_width, img_height),\n",
    "    batch_size=batch_size,\n",
    "    class_mode='categorical')\n",
    "\n",
    "test  = ImageDataGenerator(rescale = 1./255)\n",
    "\n",
    "test_generator = test.flow_from_directory(\n",
    "    validation_data_dir,\n",
    "    target_size=(img_width, img_height),\n",
    "    batch_size=batch_size,\n",
    "    class_mode='categorical')"
   ]
  },
  {
   "cell_type": "code",
   "execution_count": 6,
   "metadata": {},
   "outputs": [
    {
     "data": {
      "text/plain": [
       "855"
      ]
     },
     "execution_count": 6,
     "metadata": {},
     "output_type": "execute_result"
    }
   ],
   "source": [
    "dir(train_generator)\n",
    "train_generator.samples"
   ]
  },
  {
   "cell_type": "code",
   "execution_count": 5,
   "metadata": {},
   "outputs": [
    {
     "name": "stdout",
     "output_type": "stream",
     "text": [
      "Epoch 1/10\n",
      "35/35 [==============================] - 63s 2s/step - loss: 0.6237 - acc: 0.6510 - val_loss: 0.5186 - val_acc: 0.6528\n",
      "Epoch 2/10\n",
      "35/35 [==============================] - 61s 2s/step - loss: 0.4852 - acc: 0.7757 - val_loss: 0.3312 - val_acc: 0.9167\n",
      "Epoch 3/10\n",
      "35/35 [==============================] - 57s 2s/step - loss: 0.4308 - acc: 0.8118 - val_loss: 0.2748 - val_acc: 0.9167\n",
      "Epoch 4/10\n",
      "35/35 [==============================] - 59s 2s/step - loss: 0.3908 - acc: 0.8241 - val_loss: 0.2667 - val_acc: 0.9583\n",
      "Epoch 5/10\n",
      "35/35 [==============================] - 61s 2s/step - loss: 0.3633 - acc: 0.8486 - val_loss: 0.3703 - val_acc: 0.8472\n",
      "Epoch 6/10\n",
      "35/35 [==============================] - 60s 2s/step - loss: 0.3443 - acc: 0.8607 - val_loss: 0.2439 - val_acc: 0.9167\n",
      "Epoch 7/10\n",
      "35/35 [==============================] - 56s 2s/step - loss: 0.3448 - acc: 0.8427 - val_loss: 0.2347 - val_acc: 0.9583\n",
      "Epoch 8/10\n",
      "35/35 [==============================] - 58s 2s/step - loss: 0.3245 - acc: 0.8500 - val_loss: 0.2435 - val_acc: 0.9306\n",
      "Epoch 9/10\n",
      "35/35 [==============================] - 57s 2s/step - loss: 0.3000 - acc: 0.8616 - val_loss: 0.2416 - val_acc: 0.9167\n",
      "Epoch 10/10\n",
      "35/35 [==============================] - 60s 2s/step - loss: 0.3057 - acc: 0.8643 - val_loss: 0.2971 - val_acc: 0.8611\n"
     ]
    }
   ],
   "source": [
    "m.fit_generator(\n",
    "    train_generator,\n",
    "    steps_per_epoch=nb_train_samples // batch_size,\n",
    "    epochs=epochs,\n",
    "    validation_data=test_generator,\n",
    "    validation_steps=nb_validation_samples // batch_size)\n",
    "\n",
    "m.save('latest.h5')"
   ]
  },
  {
   "cell_type": "code",
   "execution_count": null,
   "metadata": {},
   "outputs": [],
   "source": []
  }
 ],
 "metadata": {
  "kernelspec": {
   "display_name": "Python 3",
   "language": "python",
   "name": "python3"
  },
  "language_info": {
   "codemirror_mode": {
    "name": "ipython",
    "version": 3
   },
   "file_extension": ".py",
   "mimetype": "text/x-python",
   "name": "python",
   "nbconvert_exporter": "python",
   "pygments_lexer": "ipython3",
   "version": "3.6.5"
  }
 },
 "nbformat": 4,
 "nbformat_minor": 2
}
